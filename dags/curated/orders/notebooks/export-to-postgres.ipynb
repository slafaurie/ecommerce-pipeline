{
 "cells": [
  {
   "cell_type": "code",
   "execution_count": 1,
   "metadata": {},
   "outputs": [],
   "source": [
    "import pandas as pd\n",
    "import sys\n",
    "\n",
    "sys.path.append(\"../../..\")\n",
    "\n",
    "\n",
    "from common.data_model import DataModel"
   ]
  },
  {
   "cell_type": "code",
   "execution_count": 2,
   "metadata": {},
   "outputs": [],
   "source": [
    "df = DataModel.read_partitioned_dataframe(\"curated\", \"orders\", [\"2016-09-04\", \"2022-01-01\"])"
   ]
  },
  {
   "cell_type": "code",
   "execution_count": 5,
   "metadata": {},
   "outputs": [
    {
     "name": "stdout",
     "output_type": "stream",
     "text": [
      "CREATE TABLE \"orders\" (\n",
      "\"order_id\" TEXT,\n",
      "  \"customer_id\" TEXT,\n",
      "  \"order_status\" TEXT,\n",
      "  \"order_purchase_timestamp\" TIMESTAMP,\n",
      "  \"order_approved_at\" TIMESTAMP,\n",
      "  \"order_delivered_carrier_date\" TIMESTAMP,\n",
      "  \"order_delivered_customer_date\" TIMESTAMP,\n",
      "  \"order_estimated_delivery_date\" TIMESTAMP,\n",
      "  \"purchase_date\" DATE,\n",
      "  \"payment_total_credit_card\" REAL,\n",
      "  \"number_of_payments_credit_card\" INTEGER,\n",
      "  \"number_of_installments_credit_card\" INTEGER,\n",
      "  \"payment_total_sum\" REAL,\n",
      "  \"main_payment_type\" TEXT,\n",
      "  \"_merge_payments\" TEXT,\n",
      "  \"seller_id\" TEXT,\n",
      "  \"total_price\" REAL,\n",
      "  \"total_freight\" REAL,\n",
      "  \"n_items\" INTEGER,\n",
      "  \"gross_order_value\" REAL,\n",
      "  \"_merge_items\" TEXT,\n",
      "  \"residual\" REAL,\n",
      "  \"customer_unique_id\" TEXT,\n",
      "  \"customer_zip_code_prefix\" INTEGER,\n",
      "  \"customer_city\" TEXT,\n",
      "  \"customer_state\" TEXT,\n",
      "  \"seller_zip_code_prefix\" INTEGER,\n",
      "  \"seller_city\" TEXT,\n",
      "  \"seller_state\" TEXT,\n",
      "  \"payment_total_boleto\" REAL,\n",
      "  \"payment_total_debit_card\" REAL,\n",
      "  \"payment_total_voucher\" REAL,\n",
      "  \"payment_total_not_defined\" REAL,\n",
      "  \"number_of_payments_boleto\" INTEGER,\n",
      "  \"number_of_payments_debit_card\" INTEGER,\n",
      "  \"number_of_payments_voucher\" INTEGER,\n",
      "  \"number_of_payments_not_defined\" INTEGER,\n",
      "  \"order_ranking\" INTEGER,\n",
      "  \"order_ranking_delivered\" INTEGER,\n",
      "  \"order_at_seller_ranking_delivered\" INTEGER,\n",
      "  \"days_from_last_order\" INTEGER,\n",
      "  \"month_from_last_order\" INTEGER\n",
      ")\n"
     ]
    }
   ],
   "source": [
    "print(pd.io.sql.get_schema(df, name=\"orders\"))"
   ]
  }
 ],
 "metadata": {
  "kernelspec": {
   "display_name": "Python 3.8.9 ('python-main')",
   "language": "python",
   "name": "python3"
  },
  "language_info": {
   "codemirror_mode": {
    "name": "ipython",
    "version": 3
   },
   "file_extension": ".py",
   "mimetype": "text/x-python",
   "name": "python",
   "nbconvert_exporter": "python",
   "pygments_lexer": "ipython3",
   "version": "3.8.9"
  },
  "orig_nbformat": 4,
  "vscode": {
   "interpreter": {
    "hash": "2e574194ba85369197821329c366680e3c07b5f76bca3d70e9a3ad01b6842763"
   }
  }
 },
 "nbformat": 4,
 "nbformat_minor": 2
}
