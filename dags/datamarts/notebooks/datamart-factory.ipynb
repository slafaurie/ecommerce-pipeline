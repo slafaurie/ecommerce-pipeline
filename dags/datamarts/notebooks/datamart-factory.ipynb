{
 "cells": [
  {
   "cell_type": "code",
   "execution_count": 1,
   "metadata": {},
   "outputs": [],
   "source": [
    "import os\n",
    "import re"
   ]
  },
  {
   "cell_type": "code",
   "execution_count": 33,
   "metadata": {},
   "outputs": [],
   "source": [
    "class DatamartOperator:\n",
    "    TARGET_REGEX = r'.*?\\\"(.*)\\\"'\n",
    "    DROP_TARGET = \"\"\"\n",
    "    DROP TABLE datarmat.{0};\n",
    "    \"\"\"\n",
    "    def __init__(self, dag, folder):\n",
    "        self.dag = dag\n",
    "        self.folder = folder\n",
    "\n",
    "    def list_files_in_folder(self):\n",
    "        return [ x for x in os.listdir(self.folder) if \".sql\" in x]\n",
    "\n",
    "    def get_target_table(self, content):\n",
    "        target_table = re.findall(self.TARGET_REGEX, content)[0]\n",
    "        return target_table\n",
    "\n",
    "\n",
    "    def read_sql_file(self, file):\n",
    "        with open(os.path.join(self.folder, file), \"r\") as f:\n",
    "            content = f.read()\n",
    "        self.current_content = content\n",
    "        return content\n",
    "\n",
    "    def build_task_query(self, content):\n",
    "        target_table = self.get_target_table(content)\n",
    "        return self.DROP_TARGET.format(target_table) + content\n",
    "\n",
    "    # def build_task(self, file):\n",
    "    #     content = self.read_sql_file(file)\n",
    "    #     task_id = \"task__\" + file.split(\".\")[0]\n",
    "    #     task_obj = PosgresOperator(\n",
    "    #         task_id = task_id,\n",
    "    #         sql=content, \n",
    "    #         dag = self.dag\n",
    "    #     )\n",
    "        \n",
    "    # def build_tasks(self):\n",
    "    #     for f in self.folder():\n",
    "    #         self.build_task(f)\n",
    "\n",
    "\n",
    "\n",
    "\n",
    "    \n"
   ]
  },
  {
   "cell_type": "code",
   "execution_count": 34,
   "metadata": {},
   "outputs": [
    {
     "name": "stdout",
     "output_type": "stream",
     "text": [
      "\n",
      "    DROP TABLE datarmat.mart_daily_performance;\n",
      "    CREATE TABLE datamart.\"mart_daily_performance\" AS\n",
      "    select\n",
      "    purchase_date\n",
      "    , customer_state\n",
      "    , order_status\n",
      "    , count(order_id) as count_orders\n",
      "    , sum(payment_total_sum) as payment_sum\n",
      "    , sum(total_freight) as freight_sum\n",
      "    , sum(total_price) as total_costs\n",
      "    from public.\"orders\"\n",
      "    group by 1,2,3;\n"
     ]
    }
   ],
   "source": [
    "factory = DatamartOperator(dag=\"dag\", folder='..')\n",
    "content = factory.read_sql_file(factory.list_files_in_folder()[0])\n",
    "print(factory.build_task_query(content))"
   ]
  },
  {
   "cell_type": "code",
   "execution_count": 17,
   "metadata": {},
   "outputs": [
    {
     "data": {
      "text/plain": [
       "'mart_daily_performance'"
      ]
     },
     "execution_count": 17,
     "metadata": {},
     "output_type": "execute_result"
    }
   ],
   "source": [
    "re.findall(r'.*?\\\"(.*)\\\"',content)[0]"
   ]
  }
 ],
 "metadata": {
  "kernelspec": {
   "display_name": "Python 3.8.9 ('python-main')",
   "language": "python",
   "name": "python3"
  },
  "language_info": {
   "codemirror_mode": {
    "name": "ipython",
    "version": 3
   },
   "file_extension": ".py",
   "mimetype": "text/x-python",
   "name": "python",
   "nbconvert_exporter": "python",
   "pygments_lexer": "ipython3",
   "version": "3.8.9"
  },
  "orig_nbformat": 4,
  "vscode": {
   "interpreter": {
    "hash": "2e574194ba85369197821329c366680e3c07b5f76bca3d70e9a3ad01b6842763"
   }
  }
 },
 "nbformat": 4,
 "nbformat_minor": 2
}
