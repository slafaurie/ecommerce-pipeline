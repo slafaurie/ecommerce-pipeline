{
 "cells": [
  {
   "cell_type": "code",
   "execution_count": 20,
   "metadata": {},
   "outputs": [],
   "source": [
    "import pandas as pd\n",
    "import numpy as np\n",
    "import os\n",
    "from IPython.display import Image, display"
   ]
  },
  {
   "cell_type": "markdown",
   "metadata": {},
   "source": [
    "## Order pipeline"
   ]
  },
  {
   "cell_type": "code",
   "execution_count": 21,
   "metadata": {},
   "outputs": [
    {
     "data": {
      "image/png": "[encoded data removed]",
      "text/plain": [
       "<IPython.core.display.Image object>"
      ]
     },
     "execution_count": 21,
     "metadata": {},
     "output_type": "execute_result"
    }
   ],
   "source": [
    "Image(filename=\"../static/orders-pipeline.png\")"
   ]
  },
  {
   "cell_type": "markdown",
   "metadata": {},
   "source": [
    "# Paths"
   ]
  },
  {
   "cell_type": "code",
   "execution_count": 22,
   "metadata": {},
   "outputs": [],
   "source": [
    "DATA_ROOT = \"..\\\\data\\\\raw\"\n",
    "DATA_TRANSIENT = \"..\\\\data\\\\staging\""
   ]
  },
  {
   "cell_type": "markdown",
   "metadata": {},
   "source": [
    "# Load Data"
   ]
  },
  {
   "cell_type": "code",
   "execution_count": 23,
   "metadata": {},
   "outputs": [],
   "source": [
    "def add_root(file, root):\n",
    "    \"\"\"\n",
    "    Apend root to path\n",
    "    \"\"\"\n",
    "    return os.path.join(root,file)"
   ]
  },
  {
   "cell_type": "markdown",
   "metadata": {},
   "source": [
    "# Remove order with more than one seller"
   ]
  },
  {
   "cell_type": "code",
   "execution_count": 24,
   "metadata": {},
   "outputs": [],
   "source": [
    "def get_orders_with_multiple_seller(items):\n",
    "    \"\"\"\n",
    "    Return a dataframe with the orders that contains multiple sellers\n",
    "    \"\"\"\n",
    "    return  (\n",
    "                items\n",
    "                .groupby(\"order_id\", as_index=False)\n",
    "                .agg(\n",
    "                    n_seller = ('seller_id', 'nunique')\n",
    "                )\n",
    "                .query(\"n_seller > 1\")\n",
    "            )"
   ]
  },
  {
   "cell_type": "code",
   "execution_count": 25,
   "metadata": {},
   "outputs": [],
   "source": [
    "def remove_order_with_multiple_seller(orders, items):\n",
    "    \"\"\"\n",
    "    Return the orders datasets without orders with multiple sellers\n",
    "    \"\"\"  \n",
    "    orders_with_multiple_sellers = get_orders_with_multiple_seller(items)\n",
    "\n",
    "    return (\n",
    "            orders\n",
    "            .merge(orders_with_multiple_sellers, on='order_id', how='left', indicator=True)\n",
    "            .query(\"_merge == 'left_only'\")\n",
    "            .drop(columns=['n_seller', '_merge'])\n",
    "        )"
   ]
  },
  {
   "cell_type": "markdown",
   "metadata": {},
   "source": [
    "# Aggregate order_status from 8 to 4"
   ]
  },
  {
   "cell_type": "code",
   "execution_count": 26,
   "metadata": {},
   "outputs": [],
   "source": [
    "def change_order_statuses(df_):\n",
    "\n",
    "    status_map = {\n",
    "        \"delivered\": \"delivered\",\n",
    "        \"shipped\": \"shipped\",\n",
    "        \"canceled\":\"cancelled\",\n",
    "        \"unavailable\":\"cancelled\",\n",
    "        \"invoiced\":\"waiting for shipping\",\n",
    "        \"created\":\"waiting for shipping\",\n",
    "        \"processing\":\"waiting for shipping\",\n",
    "        \"approved\":\"waiting for shipping\"\n",
    "    }\n",
    "\n",
    "    df_.loc[:, \"order_status\"] = df_.order_status.map(status_map)\n",
    "\n",
    "    return df_\n"
   ]
  },
  {
   "cell_type": "markdown",
   "metadata": {},
   "source": [
    "# Prepare payment information\n",
    "\n",
    "Aggregate by order_id and payment_type, count the number of installments, payments and sum the total payment value. Pivot(stack) the payment_type into the columns"
   ]
  },
  {
   "cell_type": "code",
   "execution_count": 27,
   "metadata": {},
   "outputs": [],
   "source": [
    "def flatten_columns(df_):\n",
    "    \"\"\"\n",
    "    Flatten hierarchical columns of a dataframe by joining them with \"_\"\n",
    "    \"\"\"\n",
    "    new_columns = [\"_\".join(cs) for cs in df_.columns.to_flat_index()]\n",
    "    df_.columns = new_columns\n",
    "    return df_\n",
    "\n",
    "def select_payment_cols(df_):\n",
    "    \"\"\"\n",
    "    Select columns to be present in the curated orders. Installments only makes sense with credit card \n",
    "    so we will remove the other columns with installments.\n",
    "    \"\"\"\n",
    "    installment_credit = [\"number_of_installments_credit_card\"]\n",
    "    all_columms_no_installments = [x for x in df_.columns if \"installments\" not in x]\n",
    "    return df_[all_columms_no_installments + installment_credit]\n",
    "\n",
    "def fillna_payment(df_):\n",
    "    \"\"\"\n",
    "    Fill NA values with zero except the number_of_installments_credit_card. \n",
    "    It should be null when there's no credit card payment\n",
    "    \"\"\"\n",
    "    fill_values_except_installments ={x:0 for x in df_.columns if \"installments\" not in x}\n",
    "    return (\n",
    "        df_\n",
    "        .fillna(value=fill_values_except_installments)\n",
    "    )\n",
    "\n",
    "def aggregate_payment_data(df_):\n",
    "    \"\"\"\n",
    "    Aggregate by order_id and payment type. Pass the payment type to the columns\n",
    "    \"\"\"\n",
    "    return (\n",
    "        df_\n",
    "        .groupby([\"order_id\", \"payment_type\"])\n",
    "        .agg(\n",
    "        payment_total = (\"payment_value\", \"sum\"),\n",
    "        number_of_payments = (\"payment_sequential\", \"max\"),\n",
    "        number_of_installments = (\"payment_installments\", \"max\")\n",
    "        )\n",
    "        .unstack()\n",
    "    )\n",
    "\n",
    "def add_total_payment(df_):\n",
    "    \"\"\"\n",
    "    Return the total payment amount for an order_id\n",
    "    \"\"\"\n",
    "    payment_col = (\n",
    "        df_\n",
    "        .filter(like=\"payment_total\", axis=\"columns\")\n",
    "        .assign(\n",
    "            payment_total_sum = lambda df: df.sum(axis=1)   \n",
    "        )\n",
    "        [\"payment_total_sum\"]\n",
    "    )\n",
    "\n",
    "    df_.loc[:, \"payment_total_sum\"] = payment_col\n",
    "    return df_\n",
    "\n",
    "def choose_main_payment_type(df_):\n",
    "    \"\"\"\n",
    "    Return what is the type method that contributes the most to the payment total sum\n",
    "    \"\"\"\n",
    "    main_type = (\n",
    "                    df_\n",
    "                    .filter(like=\"payment_total\", axis=\"columns\")\n",
    "                    .div(df_.payment_total_sum, axis=0)\n",
    "                    .drop(columns=[\"payment_total_sum\"])\n",
    "                    .idxmax(axis=1)\n",
    "                    .str\n",
    "                    .replace(\"payment_total_\", \"\")\n",
    "                )\n",
    "\n",
    "    df_.loc[:, \"main_payment_type\"] = main_type\n",
    "\n",
    "    return df_"
   ]
  },
  {
   "cell_type": "markdown",
   "metadata": {},
   "source": [
    "# Prepare items information"
   ]
  },
  {
   "cell_type": "code",
   "execution_count": 28,
   "metadata": {},
   "outputs": [],
   "source": [
    "def aggregate_items_data(items):\n",
    "    return (items\n",
    "            .groupby([\"order_id\", \"seller_id\"], as_index=False)\n",
    "            .agg(\n",
    "                total_price = (\"price\", \"sum\"),\n",
    "                total_freight = (\"freight_value\", \"sum\"),\n",
    "                n_items = (\"order_item_id\", \"max\")\n",
    "            )\n",
    "    )    \n",
    "\n",
    "\n",
    "def add_gross_order_value(df_):\n",
    "    df_.loc[:, \"gross_order_value\"] = df_.total_price + df_.total_freight\n",
    "    return df_\n"
   ]
  },
  {
   "cell_type": "markdown",
   "metadata": {},
   "source": [
    "# Join payment and items to orders"
   ]
  },
  {
   "cell_type": "code",
   "execution_count": 29,
   "metadata": {},
   "outputs": [],
   "source": [
    "def join_orders_staging_with_other(orders, other, other_name):\n",
    "    return (\n",
    "        orders\n",
    "        .merge(other, on=\"order_id\", how=\"left\", indicator=True)\n",
    "        .rename(columns={\"_merge\":f\"_merge_{other_name}\"})\n",
    "    )"
   ]
  },
  {
   "cell_type": "markdown",
   "metadata": {},
   "source": [
    "# Set payment sum and payment type of orders with delivered status but no payment"
   ]
  },
  {
   "cell_type": "code",
   "execution_count": 30,
   "metadata": {},
   "outputs": [],
   "source": [
    "def fill_null_payments(df_):\n",
    "    \"\"\"\n",
    "    For those columns with status delivered but no payment do the following:\n",
    "        - set payment method as voucher\n",
    "        - set the total value of the payment equal to the gross order value\n",
    "        - set voucher payment equal to the gross order value\n",
    "        - set number of payment in voucher equal to 1\n",
    "        - Fill all other payment columns to 0\n",
    "        - add a column indicating that the payment record is made up\n",
    "    \"\"\"\n",
    "    \n",
    "    mask = (df_._merge_payments == \"left_only\") & (df_.order_status == \"delivered\")\n",
    "    fill_dict = {\n",
    "        \"main_payment_type\": [mask, \"voucher\", df_.main_payment_type],\n",
    "        \"payment_total_sum\": [mask, df_.gross_order_value, df_.payment_total_sum],\n",
    "        \"payment_total_voucher\": [mask, df_.gross_order_value, df_.payment_total_voucher],\n",
    "        \"number_of_payments_voucher\": [mask, 1, df_.number_of_payments_voucher],\n",
    "        \"is_payment_madeup\": [mask, True, False]\n",
    "    }\n",
    "\n",
    "    for col, args in fill_dict.items():\n",
    "        df_.loc[:,col] = np.where(*args)\n",
    "\n",
    "\n",
    "    # Fill all other payment_total_* and number_of_payment with 0\n",
    "    columns_to_fill = (\n",
    "                df_\n",
    "                .filter(like=\"payment\")\n",
    "                .drop(columns=[\"main_payment_type\", \"_merge_payments\", \"is_payment_madeup\"])\n",
    "                .columns\n",
    "                .tolist()\n",
    "                )\n",
    "\n",
    "    df_ = pd.concat(\n",
    "                        [\n",
    "                            df_.drop(columns=columns_to_fill)\n",
    "                            , df_[columns_to_fill].fillna(0)\n",
    "                        ]\n",
    "                        , axis=1\n",
    "                    )\n",
    "    return df_"
   ]
  },
  {
   "cell_type": "markdown",
   "metadata": {},
   "source": [
    "# Change status of orders without items to cancelled"
   ]
  },
  {
   "cell_type": "code",
   "execution_count": 31,
   "metadata": {},
   "outputs": [],
   "source": [
    "def change_status_orders_without_items(df_):\n",
    "    \"\"\"\n",
    "    For those orders with no items and a status different to delivered set the status to cancelled\n",
    "    \"\"\"\n",
    "\n",
    "    mask = (df_._merge_items == \"left_only\") & (df_.order_status != \"delivered\")\n",
    "    df_.loc[:,\"order_status\"] = np.where(mask, \"cancelled\", df_.order_status)\n",
    "    return df_"
   ]
  },
  {
   "cell_type": "markdown",
   "metadata": {},
   "source": [
    "# Add residuals column"
   ]
  },
  {
   "cell_type": "code",
   "execution_count": 32,
   "metadata": {},
   "outputs": [],
   "source": [
    "def add_residual_to_orders(df_, atol=0.01):\n",
    "    \"\"\"\n",
    "    Add a column that show the difference between payment and gross order value. \n",
    "    If the difference is less than the tolerance, set it to 0.\n",
    "    \"\"\"\n",
    "    return (\n",
    "        df_\n",
    "        .assign(\n",
    "            residual_stg = df_.gross_order_value - df_.payment_total_sum,\n",
    "            residual = lambda df: np.where(np.abs(df.residual_stg <= atol), 0, df.residual_stg)\n",
    "            )\n",
    "        .drop(columns=[\"residual_stg\"])\n",
    "    )"
   ]
  },
  {
   "cell_type": "markdown",
   "metadata": {},
   "source": [
    "# Add customer and merchant location"
   ]
  },
  {
   "cell_type": "code",
   "execution_count": 33,
   "metadata": {},
   "outputs": [],
   "source": [
    "def join_orders_with_seller_and_customer(df, customer, seller):\n",
    "    return (\n",
    "                df\n",
    "                .merge(customer, on=\"customer_id\", how=\"left\")\n",
    "                .merge(seller, on=\"seller_id\", how=\"left\")\n",
    "            )"
   ]
  },
  {
   "cell_type": "markdown",
   "metadata": {},
   "source": [
    "# Final Cleanup"
   ]
  },
  {
   "cell_type": "code",
   "execution_count": 34,
   "metadata": {},
   "outputs": [],
   "source": [
    "def final_clean_up(df_):\n",
    "\n",
    "    \"\"\"\n",
    "    \n",
    "    \"\"\"\n",
    "    #\n",
    "    FINAL_COLUMNS = {\n",
    "        \"order_id\": \"object\"\n",
    "        , \"seller_id\" : \"object\"\n",
    "        , \"customer_unique_id\" : \"object\"\n",
    "        , \"order_status\": \"object\"\n",
    "        , \"order_purchase_timestamp\" : \"object\"\n",
    "        , \"order_approved_at\": \"object\"\n",
    "        , \"order_delivered_carrier_date\" : \"object\"\n",
    "        , \"order_delivered_customer_date\" : \"object\"\n",
    "        , \"order_estimated_delivery_date\" : \"object\"\n",
    "        , \"main_payment_type\" : \"object\"\n",
    "        , \"payment_total_sum\" : \"float64\"\n",
    "        , \"payment_total_boleto\" : \"float64\"\n",
    "        , \"payment_total_credit_card\": \"float64\"\n",
    "        , \"payment_total_debit_card\": \"float64\"\n",
    "        , \"payment_total_voucher\": \"float64\"\n",
    "        , \"payment_total_not_defined\": \"float64\"\n",
    "        , \"number_of_payments_boleto\": \"Int64\"\n",
    "        , \"number_of_payments_credit_card\" : \"Int64\"\n",
    "        , \"number_of_payments_debit_card\" :   \"Int64\"\n",
    "        , \"number_of_payments_voucher\" :  \"Int64\"\n",
    "        , \"number_of_payments_not_defined\" :  \"Int64\"\n",
    "        , \"number_of_installments_credit_card\" :  \"Int64\"\n",
    "        , \"gross_order_value\" : \"float64\"\n",
    "        , \"total_price\" : \"float64\"\n",
    "        , \"total_freight\" : \"float64\"\n",
    "        , \"n_items\" :  \"Int64\"\n",
    "        , \"customer_zip_code_prefix\" : \"Int64\"\n",
    "        , \"customer_city\" : \"object\"\n",
    "        , \"customer_state\" : \"object\"\n",
    "        , \"seller_zip_code_prefix\" : \"Int64\"\n",
    "        , \"seller_city\": \"object\"\n",
    "        , \"seller_state\" : \"object\"\n",
    "        , \"residual\" : \"float64\"\n",
    "        , \"is_payment_madeup\" : \"bool\"\n",
    "    }\n",
    "\n",
    "    df_ = df_[FINAL_COLUMNS.keys()].astype(FINAL_COLUMNS)\n",
    "\n",
    "    #\n",
    "    datetime_cols = [\n",
    "        \"order_purchase_timestamp\", \n",
    "        \"order_approved_at\", \n",
    "        \"order_delivered_carrier_date\",\n",
    "        \"order_delivered_customer_date\", \n",
    "        \"order_estimated_delivery_date\"\n",
    "    ]\n",
    "    for col in datetime_cols:\n",
    "        df_.loc[:, col] = pd.to_datetime(df_[col])\n",
    "\n",
    "    return  df_\n"
   ]
  },
  {
   "cell_type": "markdown",
   "metadata": {},
   "source": [
    "# Run pipeline"
   ]
  },
  {
   "cell_type": "code",
   "execution_count": 35,
   "metadata": {},
   "outputs": [],
   "source": [
    "orders =  pd.read_csv(add_root(\"olist_orders_dataset.csv\", DATA_ROOT))\n",
    "\n",
    "items = pd.read_csv(add_root(\"olist_order_items_dataset.csv\", DATA_ROOT))\n",
    "\n",
    "payments = pd.read_csv(add_root(\"olist_order_payments_dataset.csv\", DATA_ROOT))\n",
    "\n",
    "seller = pd.read_csv(add_root(\"olist_sellers_dataset.csv\", DATA_ROOT))\n",
    "\n",
    "customer = pd.read_csv(add_root(\"olist_customers_dataset.csv\", DATA_ROOT))"
   ]
  },
  {
   "cell_type": "code",
   "execution_count": 36,
   "metadata": {},
   "outputs": [],
   "source": [
    "items_staging = (\n",
    "                items\n",
    "                .pipe(remove_order_with_multiple_seller, items)\n",
    "                .pipe(aggregate_items_data)\n",
    "                .pipe(add_gross_order_value)\n",
    "\n",
    "            )\n",
    "\n",
    "\n",
    "\n",
    "payments_staging = (\n",
    "                    payments\n",
    "                    .pipe(aggregate_payment_data)\n",
    "                    .pipe(flatten_columns)\n",
    "                    .pipe(select_payment_cols)\n",
    "                    .pipe(fillna_payment)\n",
    "                    .pipe(add_total_payment)\n",
    "                    .pipe(choose_main_payment_type)\n",
    "                    .reset_index()\n",
    "                    )\n",
    "\n",
    "\n"
   ]
  },
  {
   "cell_type": "code",
   "execution_count": 37,
   "metadata": {},
   "outputs": [],
   "source": [
    "\n",
    "orders_stg = (\n",
    "                orders\n",
    "                .pipe(remove_order_with_multiple_seller, items)\n",
    "                .pipe(change_order_statuses)\n",
    "                .pipe(join_orders_staging_with_other, payments_staging, \"payments\")\n",
    "                .pipe(join_orders_staging_with_other, items_staging, \"items\")\n",
    "                .pipe(fill_null_payments)\n",
    "                .pipe(change_status_orders_without_items)\n",
    "                .pipe(add_residual_to_orders)\n",
    "                .pipe(join_orders_with_seller_and_customer, customer, seller)\n",
    "                .pipe(final_clean_up)\n",
    "            )"
   ]
  },
  {
   "cell_type": "code",
   "execution_count": 38,
   "metadata": {},
   "outputs": [
    {
     "data": {
      "text/html": [
       "<div>\n",
       "<style scoped>\n",
       "    .dataframe tbody tr th:only-of-type {\n",
       "        vertical-align: middle;\n",
       "    }\n",
       "\n",
       "    .dataframe tbody tr th {\n",
       "        vertical-align: top;\n",
       "    }\n",
       "\n",
       "    .dataframe thead th {\n",
       "        text-align: right;\n",
       "    }\n",
       "</style>\n",
       "<table border=\"1\" class=\"dataframe\">\n",
       "  <thead>\n",
       "    <tr style=\"text-align: right;\">\n",
       "      <th></th>\n",
       "      <th>main_payment_type</th>\n",
       "      <th>payment_total_sum</th>\n",
       "      <th>payment_total_boleto</th>\n",
       "      <th>payment_total_credit_card</th>\n",
       "      <th>payment_total_debit_card</th>\n",
       "      <th>payment_total_voucher</th>\n",
       "      <th>payment_total_not_defined</th>\n",
       "      <th>number_of_payments_boleto</th>\n",
       "      <th>number_of_payments_credit_card</th>\n",
       "      <th>number_of_payments_debit_card</th>\n",
       "      <th>number_of_payments_voucher</th>\n",
       "      <th>number_of_payments_not_defined</th>\n",
       "      <th>is_payment_madeup</th>\n",
       "    </tr>\n",
       "  </thead>\n",
       "  <tbody>\n",
       "  </tbody>\n",
       "</table>\n",
       "</div>"
      ],
      "text/plain": [
       "Empty DataFrame\n",
       "Columns: [main_payment_type, payment_total_sum, payment_total_boleto, payment_total_credit_card, payment_total_debit_card, payment_total_voucher, payment_total_not_defined, number_of_payments_boleto, number_of_payments_credit_card, number_of_payments_debit_card, number_of_payments_voucher, number_of_payments_not_defined, is_payment_madeup]\n",
       "Index: []"
      ]
     },
     "execution_count": 38,
     "metadata": {},
     "output_type": "execute_result"
    }
   ],
   "source": [
    "(\n",
    "    orders_stg\n",
    "    .loc[orders_stg.customer_unique_id.isna()]\n",
    "    .filter(like=\"payment\")\n",
    ")"
   ]
  }
 ],
 "metadata": {
  "interpreter": {
   "hash": "a6d1a0ffc3a81bf4a66a8640965af3b38812950f48e175d6d6ccbaf96aa1fca0"
  },
  "kernelspec": {
   "display_name": "Python 3.8.8 ('base')",
   "language": "python",
   "name": "python3"
  },
  "language_info": {
   "codemirror_mode": {
    "name": "ipython",
    "version": 3
   },
   "file_extension": ".py",
   "mimetype": "text/x-python",
   "name": "python",
   "nbconvert_exporter": "python",
   "pygments_lexer": "ipython3",
   "version": "3.8.8"
  },
  "orig_nbformat": 4
 },
 "nbformat": 4,
 "nbformat_minor": 2
}
