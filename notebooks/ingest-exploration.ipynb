{
 "cells": [
  {
   "cell_type": "code",
   "execution_count": 2,
   "metadata": {},
   "outputs": [],
   "source": [
    "import pandas as pd\n",
    "import os\n",
    "import random\n",
    "from datetime import timedelta\n",
    "import numpy as np\n"
   ]
  },
  {
   "cell_type": "code",
   "execution_count": 6,
   "metadata": {},
   "outputs": [],
   "source": [
    "DATA_ROOT = \"..\\\\data\\\\raw\"\n",
    "DATA_TRANSIENT = \"..\\\\data\\\\transient\""
   ]
  },
  {
   "cell_type": "code",
   "execution_count": 10,
   "metadata": {},
   "outputs": [],
   "source": [
    "def get_unique_val_col(df):\n",
    "    \"\"\"\n",
    "    Return a dictionary with the names of the columns and the unique values in it\n",
    "    \"\"\"\n",
    "    return {c:df[c].nunique() for c in df.columns}\n",
    "\n",
    "\n",
    "def add_root(file, root):\n",
    "    \"\"\"\n",
    "    Apend root to path\n",
    "    \"\"\"\n",
    "    return os.path.join(root,file)\n"
   ]
  },
  {
   "cell_type": "markdown",
   "metadata": {},
   "source": [
    "# Columns Overview"
   ]
  },
  {
   "cell_type": "code",
   "execution_count": 8,
   "metadata": {},
   "outputs": [
    {
     "name": "stdout",
     "output_type": "stream",
     "text": [
      "Overview for file olist_closed_deals_dataset.csv\n",
      "Shape is (842, 14)\n",
      "Columns\n",
      "{'mql_id': 842, 'seller_id': 842, 'sdr_id': 32, 'sr_id': 22, 'won_date': 824, 'business_segment': 33, 'lead_type': 8, 'lead_behaviour_profile': 9, 'has_company': 2, 'has_gtin': 2, 'average_stock': 6, 'business_type': 3, 'declared_product_catalog_size': 33, 'declared_monthly_revenue': 27}\n",
      "\n",
      "Overview for file olist_customers_dataset.csv\n",
      "Shape is (99441, 5)\n",
      "Columns\n",
      "{'customer_id': 99441, 'customer_unique_id': 96096, 'customer_zip_code_prefix': 14994, 'customer_city': 4119, 'customer_state': 27}\n",
      "\n",
      "Overview for file olist_geolocation_dataset.csv\n",
      "Shape is (1000163, 5)\n",
      "Columns\n",
      "{'geolocation_zip_code_prefix': 19015, 'geolocation_lat': 717360, 'geolocation_lng': 717613, 'geolocation_city': 8011, 'geolocation_state': 27}\n",
      "\n",
      "Overview for file olist_orders_dataset.csv\n",
      "Shape is (99441, 8)\n",
      "Columns\n",
      "{'order_id': 99441, 'customer_id': 99441, 'order_status': 8, 'order_purchase_timestamp': 98875, 'order_approved_at': 90733, 'order_delivered_carrier_date': 81018, 'order_delivered_customer_date': 95664, 'order_estimated_delivery_date': 459}\n",
      "\n",
      "Overview for file olist_order_items_dataset.csv\n",
      "Shape is (112650, 7)\n",
      "Columns\n",
      "{'order_id': 98666, 'order_item_id': 21, 'product_id': 32951, 'seller_id': 3095, 'shipping_limit_date': 93318, 'price': 5968, 'freight_value': 6999}\n",
      "\n",
      "Overview for file olist_order_payments_dataset.csv\n",
      "Shape is (103886, 5)\n",
      "Columns\n",
      "{'order_id': 99440, 'payment_sequential': 29, 'payment_type': 5, 'payment_installments': 24, 'payment_value': 29077}\n",
      "\n",
      "Overview for file olist_order_reviews_dataset.csv\n",
      "Shape is (99224, 7)\n",
      "Columns\n",
      "{'review_id': 98410, 'order_id': 98673, 'review_score': 5, 'review_comment_title': 4527, 'review_comment_message': 36159, 'review_creation_date': 636, 'review_answer_timestamp': 98248}\n",
      "\n",
      "Overview for file olist_products_dataset.csv\n",
      "Shape is (32951, 9)\n",
      "Columns\n",
      "{'product_id': 32951, 'product_category_name': 73, 'product_name_lenght': 66, 'product_description_lenght': 2960, 'product_photos_qty': 19, 'product_weight_g': 2204, 'product_length_cm': 99, 'product_height_cm': 102, 'product_width_cm': 95}\n",
      "\n",
      "Overview for file olist_sellers_dataset.csv\n",
      "Shape is (3095, 4)\n",
      "Columns\n",
      "{'seller_id': 3095, 'seller_zip_code_prefix': 2246, 'seller_city': 611, 'seller_state': 23}\n",
      "\n",
      "Overview for file product_category_name_translation.csv\n",
      "Shape is (71, 2)\n",
      "Columns\n",
      "{'product_category_name': 71, 'product_category_name_english': 71}\n",
      "\n"
     ]
    }
   ],
   "source": [
    "## Review columns for each file\n",
    "for f in os.listdir(DATA_ROOT):\n",
    "    df = pd.read_csv(add_root(f, DATA_ROOT))\n",
    "    columns_val = get_unique_val_col(df)\n",
    "    print(f'Overview for file {f}')\n",
    "    print(f'Shape is {df.shape}')\n",
    "    print(f'Columns\\n{columns_val}')\n",
    "    print()"
   ]
  },
  {
   "cell_type": "markdown",
   "metadata": {},
   "source": [
    "# Relationship seller - order_id\n",
    "\n",
    "Relationship is not 1-1 strictly, but there are very few orders with two sellers, a 0.2%. For sake of simplicity, I'll remove those orders to enforce the 1-1 relationship so that the seller can be added to the order fact tables"
   ]
  },
  {
   "cell_type": "code",
   "execution_count": 14,
   "metadata": {},
   "outputs": [],
   "source": [
    "items = pd.read_csv(add_root(\"olist_order_items_dataset.csv\", DATA_ROOT))"
   ]
  },
  {
   "cell_type": "code",
   "execution_count": 26,
   "metadata": {},
   "outputs": [
    {
     "name": "stdout",
     "output_type": "stream",
     "text": [
      "number of total orders 98666\n",
      "number of orders with at least two different sellers 253\n"
     ]
    }
   ],
   "source": [
    "orders_with_multiple_sellers = (\n",
    "        items\n",
    "        .query('order_item_id > 1')\n",
    "        .groupby(\"order_id\", as_index=False)\n",
    "        .agg(\n",
    "            n_seller = ('seller_id', 'nunique')\n",
    "        )\n",
    "        .query(\"n_seller > 1\")\n",
    "    )\n",
    "\n",
    "print('number of total orders', items.order_id.nunique())\n",
    "print('number of orders with at least two different sellers', orders_with_multiple_sellers.shape[0])\n",
    "\n"
   ]
  },
  {
   "cell_type": "code",
   "execution_count": 28,
   "metadata": {},
   "outputs": [
    {
     "name": "stdout",
     "output_type": "stream",
     "text": [
      "Modifying olist_orders_dataset.csv\n",
      "Complete\n",
      "\n",
      "Modifying olist_order_payments_dataset.csv\n",
      "Complete\n",
      "\n",
      "Modifying olist_order_items_dataset.csv\n",
      "Complete\n",
      "\n",
      "Modifying olist_order_reviews_dataset.csv\n",
      "Complete\n",
      "\n"
     ]
    }
   ],
   "source": [
    "list_of_files_to_modify = [\"olist_orders_dataset.csv\", \"olist_order_payments_dataset.csv\", \"olist_order_items_dataset.csv\", \"olist_order_reviews_dataset.csv\"]\n",
    "\n",
    "\n",
    "for file in list_of_files_to_modify:\n",
    "    print(f\"Modifying {file}\")\n",
    "    # filter out orders with multiple vendors\n",
    "    (\n",
    "        pd.read_csv(add_root(file, DATA_ROOT))\n",
    "        .merge(orders_with_multiple_sellers, on='order_id', how='left', indicator=True)\n",
    "        .query(\"_merge == 'left_only'\")\n",
    "        .drop(columns=['n_seller', '_merge'])\n",
    "        .to_csv(add_root(file, DATA_TRANSIENT), index=False)\n",
    "    )\n",
    "    print(\"Complete\\n\")"
   ]
  },
  {
   "cell_type": "markdown",
   "metadata": {},
   "source": [
    "# Payments option exploration\n",
    "\n",
    "Goal is to review the number of different payment types: \n",
    "- What's the % of orders with more than payment type\n",
    "- Do we need to store them all or just the one most used?\n",
    "- Is there any other payment type that has more than 1 payment installments than credit card?"
   ]
  },
  {
   "cell_type": "code",
   "execution_count": 15,
   "metadata": {},
   "outputs": [
    {
     "data": {
      "text/html": [
       "<div>\n",
       "<style scoped>\n",
       "    .dataframe tbody tr th:only-of-type {\n",
       "        vertical-align: middle;\n",
       "    }\n",
       "\n",
       "    .dataframe tbody tr th {\n",
       "        vertical-align: top;\n",
       "    }\n",
       "\n",
       "    .dataframe thead th {\n",
       "        text-align: right;\n",
       "    }\n",
       "</style>\n",
       "<table border=\"1\" class=\"dataframe\">\n",
       "  <thead>\n",
       "    <tr style=\"text-align: right;\">\n",
       "      <th></th>\n",
       "      <th>order_id</th>\n",
       "      <th>payment_sequential</th>\n",
       "      <th>payment_type</th>\n",
       "      <th>payment_installments</th>\n",
       "      <th>payment_value</th>\n",
       "    </tr>\n",
       "  </thead>\n",
       "  <tbody>\n",
       "    <tr>\n",
       "      <th>0</th>\n",
       "      <td>b81ef226f3fe1789b1e8b2acac839d17</td>\n",
       "      <td>1</td>\n",
       "      <td>credit_card</td>\n",
       "      <td>8</td>\n",
       "      <td>99.33</td>\n",
       "    </tr>\n",
       "    <tr>\n",
       "      <th>1</th>\n",
       "      <td>a9810da82917af2d9aefd1278f1dcfa0</td>\n",
       "      <td>1</td>\n",
       "      <td>credit_card</td>\n",
       "      <td>1</td>\n",
       "      <td>24.39</td>\n",
       "    </tr>\n",
       "    <tr>\n",
       "      <th>2</th>\n",
       "      <td>25e8ea4e93396b6fa0d3dd708e76c1bd</td>\n",
       "      <td>1</td>\n",
       "      <td>credit_card</td>\n",
       "      <td>1</td>\n",
       "      <td>65.71</td>\n",
       "    </tr>\n",
       "    <tr>\n",
       "      <th>3</th>\n",
       "      <td>ba78997921bbcdc1373bb41e913ab953</td>\n",
       "      <td>1</td>\n",
       "      <td>credit_card</td>\n",
       "      <td>8</td>\n",
       "      <td>107.78</td>\n",
       "    </tr>\n",
       "    <tr>\n",
       "      <th>4</th>\n",
       "      <td>42fdf880ba16b47b59251dd489d4441a</td>\n",
       "      <td>1</td>\n",
       "      <td>credit_card</td>\n",
       "      <td>2</td>\n",
       "      <td>128.45</td>\n",
       "    </tr>\n",
       "  </tbody>\n",
       "</table>\n",
       "</div>"
      ],
      "text/plain": [
       "                           order_id  payment_sequential payment_type  \\\n",
       "0  b81ef226f3fe1789b1e8b2acac839d17                   1  credit_card   \n",
       "1  a9810da82917af2d9aefd1278f1dcfa0                   1  credit_card   \n",
       "2  25e8ea4e93396b6fa0d3dd708e76c1bd                   1  credit_card   \n",
       "3  ba78997921bbcdc1373bb41e913ab953                   1  credit_card   \n",
       "4  42fdf880ba16b47b59251dd489d4441a                   1  credit_card   \n",
       "\n",
       "   payment_installments  payment_value  \n",
       "0                     8          99.33  \n",
       "1                     1          24.39  \n",
       "2                     1          65.71  \n",
       "3                     8         107.78  \n",
       "4                     2         128.45  "
      ]
     },
     "execution_count": 15,
     "metadata": {},
     "output_type": "execute_result"
    }
   ],
   "source": [
    "payment = pd.read_csv(add_root(\"olist_order_payments_dataset.csv\", DATA_TRANSIENT))\n",
    "payment.head()"
   ]
  },
  {
   "cell_type": "markdown",
   "metadata": {},
   "source": [
    "### Number of orders with multiple payment types\n",
    "\n",
    "\n",
    "96.9% of orders only have one payment, this is the most common scenario. It's interesting to see that there are orders who have more than 5 payments even though the max number of payment types are 5, this means that we can make several payments of the same type in an order. \n",
    "\n",
    "Regarding the payments types, the names are mostly self-explanatory (boleto = cash). Voucher payment type will be considered as discount that the marketplace or seller offers to this users. The not_defined type seems it's strange given that the payment_value is 0 but a query into the main order table tells us that it's a cancelled one. We will keep the column into the curated table. \n",
    "\n",
    "In conclusion, for the curated table we will use the payment_type columns in combination of columns that indicates the number of payments for each type\n"
   ]
  },
  {
   "cell_type": "code",
   "execution_count": 30,
   "metadata": {},
   "outputs": [
    {
     "data": {
      "text/html": [
       "<div>\n",
       "<style scoped>\n",
       "    .dataframe tbody tr th:only-of-type {\n",
       "        vertical-align: middle;\n",
       "    }\n",
       "\n",
       "    .dataframe tbody tr th {\n",
       "        vertical-align: top;\n",
       "    }\n",
       "\n",
       "    .dataframe thead th {\n",
       "        text-align: right;\n",
       "    }\n",
       "</style>\n",
       "<table border=\"1\" class=\"dataframe\">\n",
       "  <thead>\n",
       "    <tr style=\"text-align: right;\">\n",
       "      <th></th>\n",
       "      <th>n_payment</th>\n",
       "      <th>n_order</th>\n",
       "      <th>perc_order</th>\n",
       "    </tr>\n",
       "  </thead>\n",
       "  <tbody>\n",
       "    <tr>\n",
       "      <th>0</th>\n",
       "      <td>1</td>\n",
       "      <td>96157</td>\n",
       "      <td>0.969452</td>\n",
       "    </tr>\n",
       "    <tr>\n",
       "      <th>1</th>\n",
       "      <td>2</td>\n",
       "      <td>2452</td>\n",
       "      <td>0.994173</td>\n",
       "    </tr>\n",
       "    <tr>\n",
       "      <th>2</th>\n",
       "      <td>3</td>\n",
       "      <td>302</td>\n",
       "      <td>0.997217</td>\n",
       "    </tr>\n",
       "    <tr>\n",
       "      <th>3</th>\n",
       "      <td>4</td>\n",
       "      <td>107</td>\n",
       "      <td>0.998296</td>\n",
       "    </tr>\n",
       "    <tr>\n",
       "      <th>4</th>\n",
       "      <td>5</td>\n",
       "      <td>52</td>\n",
       "      <td>0.998820</td>\n",
       "    </tr>\n",
       "    <tr>\n",
       "      <th>5</th>\n",
       "      <td>6</td>\n",
       "      <td>36</td>\n",
       "      <td>0.999183</td>\n",
       "    </tr>\n",
       "    <tr>\n",
       "      <th>6</th>\n",
       "      <td>7</td>\n",
       "      <td>28</td>\n",
       "      <td>0.999466</td>\n",
       "    </tr>\n",
       "    <tr>\n",
       "      <th>7</th>\n",
       "      <td>8</td>\n",
       "      <td>11</td>\n",
       "      <td>0.999577</td>\n",
       "    </tr>\n",
       "    <tr>\n",
       "      <th>8</th>\n",
       "      <td>9</td>\n",
       "      <td>9</td>\n",
       "      <td>0.999667</td>\n",
       "    </tr>\n",
       "    <tr>\n",
       "      <th>9</th>\n",
       "      <td>10</td>\n",
       "      <td>5</td>\n",
       "      <td>0.999718</td>\n",
       "    </tr>\n",
       "    <tr>\n",
       "      <th>10</th>\n",
       "      <td>11</td>\n",
       "      <td>8</td>\n",
       "      <td>0.999798</td>\n",
       "    </tr>\n",
       "    <tr>\n",
       "      <th>11</th>\n",
       "      <td>12</td>\n",
       "      <td>8</td>\n",
       "      <td>0.999879</td>\n",
       "    </tr>\n",
       "    <tr>\n",
       "      <th>12</th>\n",
       "      <td>13</td>\n",
       "      <td>3</td>\n",
       "      <td>0.999909</td>\n",
       "    </tr>\n",
       "    <tr>\n",
       "      <th>13</th>\n",
       "      <td>14</td>\n",
       "      <td>2</td>\n",
       "      <td>0.999929</td>\n",
       "    </tr>\n",
       "    <tr>\n",
       "      <th>14</th>\n",
       "      <td>15</td>\n",
       "      <td>2</td>\n",
       "      <td>0.999950</td>\n",
       "    </tr>\n",
       "    <tr>\n",
       "      <th>15</th>\n",
       "      <td>19</td>\n",
       "      <td>2</td>\n",
       "      <td>0.999970</td>\n",
       "    </tr>\n",
       "    <tr>\n",
       "      <th>16</th>\n",
       "      <td>22</td>\n",
       "      <td>1</td>\n",
       "      <td>0.999980</td>\n",
       "    </tr>\n",
       "    <tr>\n",
       "      <th>17</th>\n",
       "      <td>26</td>\n",
       "      <td>1</td>\n",
       "      <td>0.999990</td>\n",
       "    </tr>\n",
       "    <tr>\n",
       "      <th>18</th>\n",
       "      <td>29</td>\n",
       "      <td>1</td>\n",
       "      <td>1.000000</td>\n",
       "    </tr>\n",
       "  </tbody>\n",
       "</table>\n",
       "</div>"
      ],
      "text/plain": [
       "    n_payment  n_order  perc_order\n",
       "0           1    96157    0.969452\n",
       "1           2     2452    0.994173\n",
       "2           3      302    0.997217\n",
       "3           4      107    0.998296\n",
       "4           5       52    0.998820\n",
       "5           6       36    0.999183\n",
       "6           7       28    0.999466\n",
       "7           8       11    0.999577\n",
       "8           9        9    0.999667\n",
       "9          10        5    0.999718\n",
       "10         11        8    0.999798\n",
       "11         12        8    0.999879\n",
       "12         13        3    0.999909\n",
       "13         14        2    0.999929\n",
       "14         15        2    0.999950\n",
       "15         19        2    0.999970\n",
       "16         22        1    0.999980\n",
       "17         26        1    0.999990\n",
       "18         29        1    1.000000"
      ]
     },
     "execution_count": 30,
     "metadata": {},
     "output_type": "execute_result"
    }
   ],
   "source": [
    "# Number of orders by number of payments\n",
    "(\n",
    "    payment\n",
    "    .groupby('order_id', as_index=False)\n",
    "    .agg(\n",
    "        n_payment = (\"payment_sequential\", \"max\")\n",
    "    )\n",
    "    .groupby(\"n_payment\", as_index=False)\n",
    "    .agg(\n",
    "        n_order = (\"order_id\", \"count\")\n",
    "    )\n",
    "    .assign(\n",
    "        perc_order = lambda df: df.n_order.cumsum().div(df.n_order.sum()) \n",
    "    )\n",
    ")"
   ]
  },
  {
   "cell_type": "code",
   "execution_count": 31,
   "metadata": {},
   "outputs": [
    {
     "data": {
      "text/plain": [
       "credit_card    0.739351\n",
       "boleto         0.190448\n",
       "voucher        0.055442\n",
       "debit_card     0.014729\n",
       "not_defined    0.000029\n",
       "Name: payment_type, dtype: float64"
      ]
     },
     "execution_count": 31,
     "metadata": {},
     "output_type": "execute_result"
    }
   ],
   "source": [
    "# Number of payments\n",
    "(\n",
    "    payment\n",
    "    .payment_type\n",
    "    .value_counts(normalize=True)\n",
    ")"
   ]
  },
  {
   "cell_type": "code",
   "execution_count": 38,
   "metadata": {},
   "outputs": [
    {
     "name": "stdout",
     "output_type": "stream",
     "text": [
      "Orders with not_defined payment type\n"
     ]
    },
    {
     "data": {
      "text/html": [
       "<div>\n",
       "<style scoped>\n",
       "    .dataframe tbody tr th:only-of-type {\n",
       "        vertical-align: middle;\n",
       "    }\n",
       "\n",
       "    .dataframe tbody tr th {\n",
       "        vertical-align: top;\n",
       "    }\n",
       "\n",
       "    .dataframe thead th {\n",
       "        text-align: right;\n",
       "    }\n",
       "</style>\n",
       "<table border=\"1\" class=\"dataframe\">\n",
       "  <thead>\n",
       "    <tr style=\"text-align: right;\">\n",
       "      <th></th>\n",
       "      <th>order_id</th>\n",
       "      <th>payment_sequential</th>\n",
       "      <th>payment_type</th>\n",
       "      <th>payment_installments</th>\n",
       "      <th>payment_value</th>\n",
       "    </tr>\n",
       "  </thead>\n",
       "  <tbody>\n",
       "    <tr>\n",
       "      <th>51153</th>\n",
       "      <td>4637ca194b6387e2d538dc89b124b0ee</td>\n",
       "      <td>1</td>\n",
       "      <td>not_defined</td>\n",
       "      <td>1</td>\n",
       "      <td>0.0</td>\n",
       "    </tr>\n",
       "  </tbody>\n",
       "</table>\n",
       "</div>"
      ],
      "text/plain": [
       "                               order_id  payment_sequential payment_type  \\\n",
       "51153  4637ca194b6387e2d538dc89b124b0ee                   1  not_defined   \n",
       "\n",
       "       payment_installments  payment_value  \n",
       "51153                     1            0.0  "
      ]
     },
     "metadata": {},
     "output_type": "display_data"
    },
    {
     "name": "stdout",
     "output_type": "stream",
     "text": [
      "Orders with not_defined payment type in the olist_orders_dataset.csv\n"
     ]
    },
    {
     "data": {
      "text/html": [
       "<div>\n",
       "<style scoped>\n",
       "    .dataframe tbody tr th:only-of-type {\n",
       "        vertical-align: middle;\n",
       "    }\n",
       "\n",
       "    .dataframe tbody tr th {\n",
       "        vertical-align: top;\n",
       "    }\n",
       "\n",
       "    .dataframe thead th {\n",
       "        text-align: right;\n",
       "    }\n",
       "</style>\n",
       "<table border=\"1\" class=\"dataframe\">\n",
       "  <thead>\n",
       "    <tr style=\"text-align: right;\">\n",
       "      <th></th>\n",
       "      <th>order_id</th>\n",
       "      <th>customer_id</th>\n",
       "      <th>order_status</th>\n",
       "      <th>order_purchase_timestamp</th>\n",
       "      <th>order_approved_at</th>\n",
       "      <th>order_delivered_carrier_date</th>\n",
       "      <th>order_delivered_customer_date</th>\n",
       "      <th>order_estimated_delivery_date</th>\n",
       "    </tr>\n",
       "  </thead>\n",
       "  <tbody>\n",
       "    <tr>\n",
       "      <th>39919</th>\n",
       "      <td>4637ca194b6387e2d538dc89b124b0ee</td>\n",
       "      <td>a73c1f73f5772cf801434bf984b0b1a7</td>\n",
       "      <td>canceled</td>\n",
       "      <td>2018-09-03 14:14:25</td>\n",
       "      <td>NaN</td>\n",
       "      <td>NaN</td>\n",
       "      <td>NaN</td>\n",
       "      <td>2018-09-10 00:00:00</td>\n",
       "    </tr>\n",
       "  </tbody>\n",
       "</table>\n",
       "</div>"
      ],
      "text/plain": [
       "                               order_id                       customer_id  \\\n",
       "39919  4637ca194b6387e2d538dc89b124b0ee  a73c1f73f5772cf801434bf984b0b1a7   \n",
       "\n",
       "      order_status order_purchase_timestamp order_approved_at  \\\n",
       "39919     canceled      2018-09-03 14:14:25               NaN   \n",
       "\n",
       "      order_delivered_carrier_date order_delivered_customer_date  \\\n",
       "39919                          NaN                           NaN   \n",
       "\n",
       "      order_estimated_delivery_date  \n",
       "39919           2018-09-10 00:00:00  "
      ]
     },
     "metadata": {},
     "output_type": "display_data"
    }
   ],
   "source": [
    "# Orders with not_defined payment type\n",
    "mask = payment.query(\"payment_type == 'not_defined'\").order_id.iloc[0]\n",
    "\n",
    "print(\"Orders with not_defined payment type\")\n",
    "\n",
    "display (\n",
    "    (\n",
    "    payment\n",
    "    .query(\"order_id == @mask\")\n",
    "    .sort_values(by=[\"payment_sequential\"])\n",
    ")\n",
    "\n",
    ")\n",
    "\n",
    "print(\"Orders with not_defined payment type in the olist_orders_dataset.csv\")\n",
    "\n",
    "display (\n",
    "\n",
    "    (\n",
    "    pd.read_csv(add_root(\"olist_orders_dataset.csv\", DATA_ROOT))\n",
    "    .query(\"order_id == @mask\")\n",
    ")\n",
    "\n",
    ")"
   ]
  },
  {
   "cell_type": "markdown",
   "metadata": {},
   "source": [
    "Number of installments in exclusively of credit card payments. The cell outputs the % of orders with more than installment"
   ]
  },
  {
   "cell_type": "code",
   "execution_count": 40,
   "metadata": {},
   "outputs": [
    {
     "data": {
      "text/plain": [
       "credit_card    1.0\n",
       "Name: payment_type, dtype: float64"
      ]
     },
     "execution_count": 40,
     "metadata": {},
     "output_type": "execute_result"
    }
   ],
   "source": [
    "# Payment type with more than one instalmments\n",
    "(\n",
    "    payment\n",
    "    .query(\"payment_installments > 1\")\n",
    "    .payment_type\n",
    "    .value_counts(normalize=True)\n",
    ")"
   ]
  },
  {
   "cell_type": "markdown",
   "metadata": {},
   "source": [
    "# Match between Payment total value and Items value + Freight value\n",
    "\n",
    "I'd like to understand the relationship between the total payment value and the total basket value (items + delivery) for an order. Ideally, I hope them to be equall, even if the payment type is voucher, which will count as discounts not paid by users per se but the marketplace or sellers\n",
    "\n",
    "In addition, I'd to understand the match in terms of order_id. Should I expect that both tables contains the same orders?"
   ]
  },
  {
   "cell_type": "code",
   "execution_count": 30,
   "metadata": {},
   "outputs": [],
   "source": [
    "\n",
    "\n",
    "item_gmv = (\n",
    "    pd.read_csv(add_root(\"olist_order_items_dataset.csv\", DATA_TRANSIENT))\n",
    "    .groupby(\"order_id\", as_index=False)\n",
    "    .agg(\n",
    "        price_sum = (\"price\", \"sum\"),\n",
    "        freight_sum = (\"freight_value\", \"sum\")\n",
    "    )\n",
    "    .assign(\n",
    "        gmv = lambda df: df.price_sum + df.freight_sum\n",
    "    )\n",
    ")\n",
    "\n",
    "\n",
    "payment_total = (\n",
    "    pd.read_csv(add_root(\"olist_order_payments_dataset.csv\", DATA_TRANSIENT))\n",
    "    .groupby(\"order_id\", as_index=False)\n",
    "    .agg(\n",
    "        payment_sum = (\"payment_value\", \"sum\")\n",
    "    )\n",
    ")\n",
    "\n",
    "payment_with_gmv = (\n",
    "        payment_total\n",
    "        .merge(item_gmv, on=\"order_id\", how=\"outer\", indicator=True)\n",
    ")\n"
   ]
  },
  {
   "cell_type": "code",
   "execution_count": 31,
   "metadata": {},
   "outputs": [
    {
     "data": {
      "text/plain": [
       "left_only     775\n",
       "right_only      1\n",
       "both            0\n",
       "Name: _merge, dtype: int64"
      ]
     },
     "execution_count": 31,
     "metadata": {},
     "output_type": "execute_result"
    }
   ],
   "source": [
    "\n",
    "(\n",
    "    payment_with_gmv\n",
    "    .query(\"_merge != 'both'\")\n",
    "    ._merge\n",
    "    .value_counts()\n",
    ")"
   ]
  },
  {
   "cell_type": "markdown",
   "metadata": {},
   "source": [
    "# Seller creation date\n",
    "\n",
    "Seller table does not have the date of when a seller signed up to the marketplace. The Olist closed deals does contains info about it but not for all merchants. For the sake of the project, I would like to produce a datamart which will store how sellers performs from the moment they signed up; it's essential to have the signup date. \n",
    "\n",
    "To solve this challenge, If the signup date is not available in the closed_deals, I'll use a random date between the date of the first order for a given seller in the orders dataset and the max_delta_to_randomize parameter "
   ]
  },
  {
   "cell_type": "code",
   "execution_count": 11,
   "metadata": {},
   "outputs": [],
   "source": [
    "def randomize_date_col(df, date_col, max_delta):\n",
    "    \"\"\"\n",
    "    Randomize a date column by a random number defined by delta\n",
    "    \"\"\"\n",
    "    df[f\"{date_col}_random\"] = df[date_col].apply(lambda x: x - timedelta(days=random.randint(1,max_delta)))\n",
    "    return df\n",
    "    \n",
    "\n",
    "def coalesce_two_cols(df, cols, new_col=None):\n",
    "    \"\"\"\n",
    "    Perform a SQL-like coalese function for two columns.\n",
    "    \"\"\"\n",
    "    if not new_col:\n",
    "        new_col = f'{cols[0]}_coalesce'\n",
    "\n",
    "    col1, col2 = cols\n",
    "    df[new_col] = np.where(df[col1].isnull(), df[col2], df[col1])\n",
    "    return df\n",
    "\n",
    "MAX_DELTA_TO_RANDOMIZE = 60"
   ]
  },
  {
   "cell_type": "code",
   "execution_count": 12,
   "metadata": {},
   "outputs": [],
   "source": [
    "# get first order date for each merchant\n",
    "orders = pd.read_csv(add_root(\"olist_orders_dataset.csv\", DATA_TRANSIENT), \n",
    "                    parse_dates=[\"order_purchase_timestamp\"],\n",
    "                    usecols=[\"order_id\", \"order_purchase_timestamp\"]\n",
    "                    )\\\n",
    "                    .assign(purchase_date = lambda row: row[\"order_purchase_timestamp\"].dt.date)\\\n",
    "                    .loc[:,[\"order_id\", \"purchase_date\"]]\n",
    "        \n",
    "\n",
    "orders_sellers = pd.read_csv(add_root(\"olist_order_items_dataset.csv\", DATA_TRANSIENT), usecols=[\"order_id\", \"seller_id\"])\\\n",
    "            .drop_duplicates()\n",
    "\n",
    "\n",
    "first_seller_order = orders_sellers\\\n",
    "            .merge(orders, how=\"left\", on=\"order_id\")\\\n",
    "            .groupby(\"seller_id\", as_index=False)\\\n",
    "            .agg({\"purchase_date\":\"min\"})\\\n",
    "            .rename(columns={\"purchase_date\":\"first_order_date\"})\\\n",
    "            .pipe(randomize_date_col, \"first_order_date\", MAX_DELTA_TO_RANDOMIZE)\\\n",
    "            .drop(columns=[\"first_order_date\"])\n",
    "\n",
    "seller_closed_deals = pd.read_csv(add_root(\"olist_closed_deals_dataset.csv\", DATA_ROOT), \n",
    "                                    parse_dates=[\"won_date\"], \n",
    "                                    usecols=[\"seller_id\", \"won_date\"]\n",
    "                                    )\\\n",
    "                    .assign(deal_date = lambda row: row[\"won_date\"].dt.date)\\\n",
    "                    .loc[:,[\"seller_id\", \"deal_date\"]]\n",
    "\n",
    "\n",
    "sellers_with_signupdate = pd.read_csv(add_root( \"olist_sellers_dataset.csv\", DATA_ROOT))\\\n",
    "                        .merge(first_seller_order, how=\"left\", on=\"seller_id\")\\\n",
    "                        .merge(seller_closed_deals, how=\"left\", on=\"seller_id\")\\\n",
    "                        .pipe(coalesce_two_cols, [\"deal_date\", \"first_order_date_random\"], \"signup_date\")\\\n",
    "                        .drop(columns=[\"first_order_date_random\", \"deal_date\"])\n",
    "\n",
    "\n",
    "sellers_with_signupdate.to_csv(add_root(\"olist_sellers_dataset.csv\", DATA_TRANSIENT), index=False)"
   ]
  },
  {
   "cell_type": "markdown",
   "metadata": {},
   "source": []
  }
 ],
 "metadata": {
  "interpreter": {
   "hash": "a6d1a0ffc3a81bf4a66a8640965af3b38812950f48e175d6d6ccbaf96aa1fca0"
  },
  "kernelspec": {
   "display_name": "Python 3.8.8 ('base')",
   "language": "python",
   "name": "python3"
  },
  "language_info": {
   "codemirror_mode": {
    "name": "ipython",
    "version": 3
   },
   "file_extension": ".py",
   "mimetype": "text/x-python",
   "name": "python",
   "nbconvert_exporter": "python",
   "pygments_lexer": "ipython3",
   "version": "3.8.8"
  },
  "orig_nbformat": 4
 },
 "nbformat": 4,
 "nbformat_minor": 2
}
